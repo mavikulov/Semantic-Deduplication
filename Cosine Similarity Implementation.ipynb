{
 "cells": [
  {
   "cell_type": "markdown",
   "id": "974fb162-40c6-48ef-8c8e-c73091cdbd29",
   "metadata": {},
   "source": [
    "### Реализация блока из SOTA, где используется косинусное сходство"
   ]
  },
  {
   "cell_type": "markdown",
   "id": "5f95caab-8f82-456b-a256-1712cb94fc73",
   "metadata": {},
   "source": [
    "Вместо готовой функции cosine_similarity из sklearn можно реализовать кастомную подобную функцию с использованием numpy для  "
   ]
  },
  {
   "cell_type": "code",
   "execution_count": 1,
   "id": "628d3c5b-e5d7-470d-8cee-6554fb065953",
   "metadata": {},
   "outputs": [],
   "source": [
    "import numpy as np\n",
    "\n",
    "def cosine_similarity_custom(cluster_embeddings, eps=10e-10):\n",
    "    L2_norm = np.linalg.norm(cluster_embeddings, axis=1, keepdims=True)\n",
    "    normalized = cluster_embeddings / np.where(L2_norm == 0, 1e-10, L2_norm)\n",
    "    similarity_matrix = np.dot(normalized, normalized.T)\n",
    "    similarity_matrix = np.clip(similarity_matrix, -1.0, 1.0)\n",
    "    return similarity_matrix"
   ]
  },
  {
   "cell_type": "code",
   "execution_count": 2,
   "id": "fad074ba-dcd9-4b91-a80b-76d7e82e17ab",
   "metadata": {},
   "outputs": [],
   "source": [
    "from sklearn.metrics.pairwise import cosine_similarity\n",
    "\n",
    "def find_duplicates(embeddings, cluster_labels, threshold=0.85, use_custom_function=False):\n",
    "    duplicates = []\n",
    "    for cluster_id in set(cluster_labels):\n",
    "        if cluster_id == -1:\n",
    "            continue\n",
    "            \n",
    "        cluster_indices = np.where(cluster_labels == cluster_id)[0]\n",
    "        cluster_embeddings = embeddings[cluster_indices]\n",
    "\n",
    "        if use_custom_function:\n",
    "            sim_matrix = cosine_similarity_custom(cluster_embeddings)\n",
    "        else:\n",
    "            sim_matrix = cosine_similarity(cluster_embeddings)\n",
    "        \n",
    "        for i in range(len(sim_matrix)):\n",
    "            for j in range(i + 1, len(sim_matrix)):\n",
    "                if sim_matrix[i][j] > threshold:\n",
    "                    duplicates.append((\n",
    "                        cluster_indices[i], \n",
    "                        cluster_indices[j], \n",
    "                        sim_matrix[i][j]\n",
    "                    ))\n",
    "    \n",
    "    return sorted(duplicates, key=lambda x: -x[2])"
   ]
  }
 ],
 "metadata": {
  "kernelspec": {
   "display_name": "Python 3 (ipykernel)",
   "language": "python",
   "name": "python3"
  },
  "language_info": {
   "codemirror_mode": {
    "name": "ipython",
    "version": 3
   },
   "file_extension": ".py",
   "mimetype": "text/x-python",
   "name": "python",
   "nbconvert_exporter": "python",
   "pygments_lexer": "ipython3",
   "version": "3.12.2"
  }
 },
 "nbformat": 4,
 "nbformat_minor": 5
}
